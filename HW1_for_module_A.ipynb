{
  "nbformat": 4,
  "nbformat_minor": 0,
  "metadata": {
    "colab": {
      "provenance": [],
      "authorship_tag": "ABX9TyM8w1a1mkRJe7DlCYBmlBO1",
      "include_colab_link": true
    },
    "kernelspec": {
      "name": "python3",
      "display_name": "Python 3"
    },
    "language_info": {
      "name": "python"
    }
  },
  "cells": [
    {
      "cell_type": "markdown",
      "metadata": {
        "id": "view-in-github",
        "colab_type": "text"
      },
      "source": [
        "<a href=\"https://colab.research.google.com/github/ChengZhenLi1/MAT-421/blob/main/HW1_for_module_A.ipynb\" target=\"_parent\"><img src=\"https://colab.research.google.com/assets/colab-badge.svg\" alt=\"Open In Colab\"/></a>"
      ]
    },
    {
      "cell_type": "markdown",
      "source": [
        "**Chapter 9: Representation of numbers**\n",
        "\n",
        "\n"
      ],
      "metadata": {
        "id": "RQnuHDfTfTx-"
      }
    },
    {
      "cell_type": "markdown",
      "source": [
        "\n",
        "**Section 9.1: Base-N and Binary**\n",
        "\n",
        "(1) The decimal system (or base10): It's a way to show numbers. In decimal system, a number is composed by digits that are from 0 to 9. Each digit can be expressed as a coefficient for a power of 10.\n",
        "\n",
        "The decimal system is also called base-10 because it's based on 10 digits(0,1,2,3,4,5,6,7,8,9) to represent numbers and each digits is associated with a power of 10"
      ],
      "metadata": {
        "id": "OtJgEC0viizV"
      }
    },
    {
      "cell_type": "code",
      "source": [
        "# An example of showing the decimal expansion for 156.7 in decimal system\n",
        "\n",
        "156.7==1*(10**2)+5*(10**1)+6*(10**0)+7*(10**-1)"
      ],
      "metadata": {
        "colab": {
          "base_uri": "https://localhost:8080/"
        },
        "id": "zXfl3_5zftGU",
        "outputId": "bcb70393-6c7a-4063-8061-d648d4c7aa4e"
      },
      "execution_count": 9,
      "outputs": [
        {
          "output_type": "execute_result",
          "data": {
            "text/plain": [
              "True"
            ]
          },
          "metadata": {},
          "execution_count": 9
        }
      ]
    },
    {
      "cell_type": "markdown",
      "source": [
        "The example above shows that the number 156.7 is composed by 4 digits,which are 1,5,6,and7. \n",
        "\n",
        "Each of the 4 digits is a coefficient for a power of 10. \n",
        "\n",
        "And the sum of each term on the right side the equation is equal to the number on the left side."
      ],
      "metadata": {
        "id": "0qG3QBsHlzO6"
      }
    },
    {
      "cell_type": "markdown",
      "source": [
        "\n",
        "\n",
        "\n",
        "(2) Converting a number in base 3 to base 10\n",
        "\n",
        "In base 3, there are 3 digits, which are 0,1,2. Each digit is a coefficient for a power of 3.\n",
        "\n",
        "\n"
      ],
      "metadata": {
        "id": "0f_t9Hx9p1fH"
      }
    },
    {
      "cell_type": "code",
      "source": [
        "# Convert 112(base3) to 4(base10)\n",
        "1*(3**2)+1*(3**1)+2*(3**0) ==1*(10**1)+4*(10**0)\n",
        "# 112(base3)=14(base10)\n"
      ],
      "metadata": {
        "colab": {
          "base_uri": "https://localhost:8080/"
        },
        "id": "wHNaLBLwtmf2",
        "outputId": "b3cf5a32-60e3-4524-8ddd-e7d8943e766c"
      },
      "execution_count": 26,
      "outputs": [
        {
          "output_type": "execute_result",
          "data": {
            "text/plain": [
              "True"
            ]
          },
          "metadata": {},
          "execution_count": 26
        }
      ]
    },
    {
      "cell_type": "markdown",
      "source": [
        "(3) Binary numbers\n",
        "\n",
        "In binary, there are only two digits, which are 0 and 1. \n",
        "\n",
        "Each digit is a cofficient of power 2.\n"
      ],
      "metadata": {
        "id": "QjufOTWXyhQi"
      }
    },
    {
      "cell_type": "code",
      "source": [
        "\n",
        "# converting 22(base10) to 10110(base2)\n",
        "1* (2**4) + 0 *(2**3) + 1 *(2**2) + 1 *(2**1) + 0 *(2**0)==22\n",
        "# 22(base10)=10110(base2)"
      ],
      "metadata": {
        "colab": {
          "base_uri": "https://localhost:8080/"
        },
        "id": "pGtD27Jp0ZqL",
        "outputId": "873e2605-401e-44af-d001-b477389aa3f3"
      },
      "execution_count": 30,
      "outputs": [
        {
          "output_type": "execute_result",
          "data": {
            "text/plain": [
              "True"
            ]
          },
          "metadata": {},
          "execution_count": 30
        }
      ]
    },
    {
      "cell_type": "markdown",
      "source": [
        "(4) Additions and multiplications in binary \n",
        "\n",
        "Rules for addition in binary:\n",
        "\n",
        "0+0=0\n",
        "\n",
        "1+0=0+1=1\n",
        "\n",
        "1+1=10\n",
        "\n",
        "Rules of multiplications in binary are same as the multiplication rules for real numbers \n",
        "\n"
      ],
      "metadata": {
        "id": "Gfn96cky_GJc"
      }
    },
    {
      "cell_type": "code",
      "source": [
        "# converting base(10) numbers to base(2) numbers\n",
        "6==1*(2**2)+1*(2**1)+0*(2**0) # 6base(10)=110base(2)\n",
        "\n",
        "8==1*(2**3)+0*(2**2)+0*(2**1)+0*(2**0) # 8base(10)=1000(base2)\n",
        "\n",
        "6+8==14 # 14 is base(10) \n",
        "6*8==48 # 48 is base(10) \n",
        "\n",
        "# addition of 110 and 1000: 110base(2)+1000base(2)=1110base(2)\n",
        "# convert 1110base(2) to base(10) number\n",
        "1110==1*(2**3)+1*(2**2)+1*(2**1)+0*(2**0)==8+4+2==14\n",
        "# 6+8(base10)=14base(10)=110base(2)+1000base(2)=1110(base2)\n",
        "1*(2**3)+1*(2**2)+1*(2**1)+0*(2**0)==6+8==14 \n",
        "\n",
        "\n",
        "# multiplication of 110 and 1000: 110base(2)*1000base(2)=110000base(2)\n",
        "# convert 110000base(2)to base(10) number\n",
        "1*(2**5)+1*(2**4)+0*(2**3)+0*(2**2)+0*(2**1)+0*(2**0)==6*8==48 #48base(10)=110000base(2)"
      ],
      "metadata": {
        "colab": {
          "base_uri": "https://localhost:8080/"
        },
        "id": "fjJd-H5ADXJJ",
        "outputId": "654d0679-24ea-489e-e0d2-242651182eee"
      },
      "execution_count": 40,
      "outputs": [
        {
          "output_type": "execute_result",
          "data": {
            "text/plain": [
              "True"
            ]
          },
          "metadata": {},
          "execution_count": 40
        }
      ]
    },
    {
      "cell_type": "markdown",
      "source": [
        "**Section 9.2 : Floating Point numbers**\n",
        "\n",
        "There are 3 parts floats allocate bits to:\n",
        "\n",
        "(1) The sign indicator s, it indicates whether a number is positve or negative\n",
        "\n",
        "(2) The exponent e\n",
        "\n",
        "(3) The fraction f\n",
        "\n",
        "\n",
        "For 64-bit, a float can be expressed as: n=(-1)^s * 2^(e-1023) *(1+f)\n",
        "\n",
        "There are 64 bits in total. 1 bit is allcated to s to indicate whether a number is positive or negative, 11 bits are allocated to the exponent e, 52 bits are allocated to the fraction f.\n"
      ],
      "metadata": {
        "id": "ifyMRxl2LuJ7"
      }
    },
    {
      "cell_type": "code",
      "source": [
        "import sys\n",
        "sys.float_info"
      ],
      "metadata": {
        "colab": {
          "base_uri": "https://localhost:8080/"
        },
        "id": "AYOSGS7nZsVg",
        "outputId": "a67cd4e4-25df-4b4b-e300-6996a2e33518"
      },
      "execution_count": 39,
      "outputs": [
        {
          "output_type": "execute_result",
          "data": {
            "text/plain": [
              "sys.float_info(max=1.7976931348623157e+308, max_exp=1024, max_10_exp=308, min=2.2250738585072014e-308, min_exp=-1021, min_10_exp=-307, dig=15, mant_dig=53, epsilon=2.220446049250313e-16, radix=2, rounds=1)"
            ]
          },
          "metadata": {},
          "execution_count": 39
        }
      ]
    },
    {
      "cell_type": "markdown",
      "source": [
        "The distance between one number(called x) and the number next to it(called y) is called gap, any number(called y) that is in between the gap will assign to the the number(x or y) that y is closest to "
      ],
      "metadata": {
        "id": "aKsS5Kbmsz36"
      }
    },
    {
      "cell_type": "code",
      "source": [
        "import numpy as np\n",
        "\n",
        "# compute the gap that is at 1e5 and the value of the number that's less than \n",
        "# the half of the gap is assign to the value of 1e5\n",
        "\n",
        "np.spacing(1e5)\n",
        "1e5==1e5+ np.spacing(1e5)/4 # The return value of true indicates that the value of 1e5+np.spacing(1e5)/4 is assign to the value of 1e5\n",
        "\n"
      ],
      "metadata": {
        "colab": {
          "base_uri": "https://localhost:8080/"
        },
        "id": "kYZLOuzksMW3",
        "outputId": "495f6c16-a5a2-4397-a620-489aae683ffe"
      },
      "execution_count": 54,
      "outputs": [
        {
          "output_type": "execute_result",
          "data": {
            "text/plain": [
              "True"
            ]
          },
          "metadata": {},
          "execution_count": 54
        }
      ]
    },
    {
      "cell_type": "markdown",
      "source": [
        "The smallest number that is defined for 64 bits is when e=0\n",
        "\n",
        "The largest number that is defined for 64 bits is when e=2046"
      ],
      "metadata": {
        "id": "Nrtsat364Oym"
      }
    },
    {
      "cell_type": "code",
      "source": [
        "# The largest number that is defined for 64 bits is when e=2046\n",
        "sys.float_info.max==(2**(2046-1023))*((1+sum(0.5**np.arange(1,53))))\n",
        "\n",
        "\n",
        "\n",
        "# The samllest that is defined for 64 bits is when e=1\n",
        "sys.float_info.min==(2**(1-1023))*(1+0)\n"
      ],
      "metadata": {
        "colab": {
          "base_uri": "https://localhost:8080/"
        },
        "id": "AOx7HwY013Xr",
        "outputId": "b89da0ff-9e8d-4eb6-a82d-1bd80cf37b27"
      },
      "execution_count": 59,
      "outputs": [
        {
          "output_type": "execute_result",
          "data": {
            "text/plain": [
              "True"
            ]
          },
          "metadata": {},
          "execution_count": 59
        }
      ]
    },
    {
      "cell_type": "markdown",
      "source": [
        "Overflow and underflow:\n",
        "\n",
        "Number that is larger than the largest floating point number result a overflow, python assign those numbers to inf.\n"
      ],
      "metadata": {
        "id": "WyjhrrSk4rLm"
      }
    },
    {
      "cell_type": "code",
      "source": [
        "x=sys.float_info.max + sys.float_info.max \n",
        "x\n",
        "# x is 2 times larger than the largest floating point number, therefore pythod assign x to inf"
      ],
      "metadata": {
        "colab": {
          "base_uri": "https://localhost:8080/"
        },
        "id": "CGEjva1Q5vi3",
        "outputId": "0a5239c5-cee0-45b4-dc2a-937d348e6325"
      },
      "execution_count": 77,
      "outputs": [
        {
          "output_type": "execute_result",
          "data": {
            "text/plain": [
              "inf"
            ]
          },
          "metadata": {},
          "execution_count": 77
        }
      ]
    },
    {
      "cell_type": "markdown",
      "source": [
        "Numbers that is smaller than the smallest floating point number result a underflow, python assign those numbers to 0.\n"
      ],
      "metadata": {
        "id": "ZhRKlPi564zu"
      }
    },
    {
      "cell_type": "code",
      "source": [
        "y=sys.float_info.min-sys.float_info.min\n",
        "y\n",
        "# y is less than the smallest floating point number, therefore pythod assign y to 0"
      ],
      "metadata": {
        "colab": {
          "base_uri": "https://localhost:8080/"
        },
        "id": "cPy2GzAn66RX",
        "outputId": "0f3bb956-2554-4325-be9c-c9594e7959ca"
      },
      "execution_count": 80,
      "outputs": [
        {
          "output_type": "execute_result",
          "data": {
            "text/plain": [
              "0.0"
            ]
          },
          "metadata": {},
          "execution_count": 80
        }
      ]
    },
    {
      "cell_type": "markdown",
      "source": [
        "**Section 9.3: Round-off errors**\n",
        "\n",
        "Round-off error is the difference between the exact value and its approximated value.\n"
      ],
      "metadata": {
        "id": "j1B113zv71j1"
      }
    },
    {
      "cell_type": "code",
      "source": [
        "# Floating point numbers in pythod doesn't equal its exact value\n",
        "\n",
        "5.2-5.1 \n",
        "# The output 0.10000000000000053 shows that 5.2-5.1 is not exact 0.1\n",
        "# Which indicates that exact numbers are not able to represent floating numbers in python"
      ],
      "metadata": {
        "colab": {
          "base_uri": "https://localhost:8080/"
        },
        "id": "kzOIR67iAHea",
        "outputId": "10788e7e-084a-4dc0-e03c-63129398255f"
      },
      "execution_count": 95,
      "outputs": [
        {
          "output_type": "execute_result",
          "data": {
            "text/plain": [
              "0.10000000000000053"
            ]
          },
          "metadata": {},
          "execution_count": 95
        }
      ]
    },
    {
      "cell_type": "markdown",
      "source": [
        "However, which round function. It's doable to compare two approximated values\n"
      ],
      "metadata": {
        "id": "99xVdPDICQqT"
      }
    },
    {
      "cell_type": "code",
      "source": [
        "# round 5.2-5.1 to 1 decimal place and compare it to 0.1\n",
        "round(5.2-5.1,1)==round(0.1,1)\n",
        "# The return value of ture indicates that they are comparable"
      ],
      "metadata": {
        "colab": {
          "base_uri": "https://localhost:8080/"
        },
        "id": "aweItD1aCfKn",
        "outputId": "5f883694-cd90-437e-d40d-f1bbb49d9c7d"
      },
      "execution_count": 96,
      "outputs": [
        {
          "output_type": "execute_result",
          "data": {
            "text/plain": [
              "True"
            ]
          },
          "metadata": {},
          "execution_count": 96
        }
      ]
    },
    {
      "cell_type": "markdown",
      "source": [
        "Round-off errors is accumulated"
      ],
      "metadata": {
        "id": "n9KuIonUDw78"
      }
    },
    {
      "cell_type": "code",
      "source": [
        "# (1/2)+(1/2)*5000-(1/2)*5000 is supposed to be equal to 0.5. \n",
        "# However, pythod accumulates the round-off errors durinf the process of calculation.\n",
        "loop=50000\n",
        "x=1/2\n",
        "for i in range(loop):\n",
        "  x+=1/5\n",
        "\n",
        "for i in range(loop):\n",
        "  x-=1/5\n",
        "\n",
        "x==0.5\n",
        "\n",
        "# The return value of false indicates that the value of x is not 0.5 after the computation."
      ],
      "metadata": {
        "colab": {
          "base_uri": "https://localhost:8080/"
        },
        "id": "7RAL_IlGD3I0",
        "outputId": "906354c1-dd03-4363-f105-77fda9b80d53"
      },
      "execution_count": 121,
      "outputs": [
        {
          "output_type": "execute_result",
          "data": {
            "text/plain": [
              "False"
            ]
          },
          "metadata": {},
          "execution_count": 121
        }
      ]
    },
    {
      "cell_type": "code",
      "source": [
        "# (1/2)+(1/2)*5000-(1/2)*5000 is supposed to be equal to 0.5. \n",
        "# However, pythod accumulates the round-off errors durinf the process of calculation.\n",
        "loop=50000\n",
        "x=1/2\n",
        "for i in range(loop):\n",
        "  x+=1/5\n",
        "\n",
        "for i in range(loop):\n",
        "  x-=1/5\n",
        "\n",
        "x"
      ],
      "metadata": {
        "colab": {
          "base_uri": "https://localhost:8080/"
        },
        "id": "0icqbUM1GaAN",
        "outputId": "650e9f6e-3e9c-4943-b42e-55689efa1737"
      },
      "execution_count": 120,
      "outputs": [
        {
          "output_type": "execute_result",
          "data": {
            "text/plain": [
              "0.5000000000008988"
            ]
          },
          "metadata": {},
          "execution_count": 120
        }
      ]
    },
    {
      "cell_type": "markdown",
      "source": [
        "From the both computation above, they shows that after 50000 times of looping each for addition and subtraction with the same number. x is no longer assigned with the value of 0.5. Which indicates that the round-off errors during the computation has been accumulated"
      ],
      "metadata": {
        "id": "boZMlGIEGjxu"
      }
    }
  ]
}