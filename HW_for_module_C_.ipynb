{
  "nbformat": 4,
  "nbformat_minor": 0,
  "metadata": {
    "colab": {
      "provenance": [],
      "authorship_tag": "ABX9TyP9ga7c4CzdzOqBmBWVZEga",
      "include_colab_link": true
    },
    "kernelspec": {
      "name": "python3",
      "display_name": "Python 3"
    },
    "language_info": {
      "name": "python"
    }
  },
  "cells": [
    {
      "cell_type": "markdown",
      "metadata": {
        "id": "view-in-github",
        "colab_type": "text"
      },
      "source": [
        "<a href=\"https://colab.research.google.com/github/ChengZhenLi1/MAT-421/blob/main/HW_for_module_C_.ipynb\" target=\"_parent\"><img src=\"https://colab.research.google.com/assets/colab-badge.svg\" alt=\"Open In Colab\"/></a>"
      ]
    },
    {
      "cell_type": "markdown",
      "source": [
        "**Chapter 19: Root finding**\n",
        "\n",
        "**Section 19.1: Root finding problem statement**\n",
        "\n",
        "Definition of root: The values of an independent variable in a function that will produce a zero are called roots\n",
        "\n",
        "For example, in function f(x)=x^2-9, f(x) is 0 when x=-3,3. Therefore, -3 and 3 are the roots of the function.\n",
        "\n",
        "For other functions that are diffcult to compute the roots of it, we use fsolve function from scipy to compute the roots or compute a approximated numerical value for roots"
      ],
      "metadata": {
        "id": "izrZhGkdCThh"
      }
    },
    {
      "cell_type": "code",
      "source": [
        "import numpy as np\n",
        "from scipy import optimize\n",
        "\n",
        "f = lambda x: np.cos(x) - x\n",
        "r = optimize.fsolve(f, -2)\n",
        "print(\"r =\", r)\n",
        "\n",
        "# Verify the solution is a root\n",
        "result = f(r)\n",
        "print(\"result=\", result)"
      ],
      "metadata": {
        "colab": {
          "base_uri": "https://localhost:8080/"
        },
        "id": "xRlyCinLDH_Y",
        "outputId": "59f9fa44-45a3-493d-eee4-e22eb37398b6"
      },
      "execution_count": null,
      "outputs": [
        {
          "output_type": "stream",
          "name": "stdout",
          "text": [
            "r = [0.73908513]\n",
            "result= [0.]\n"
          ]
        }
      ]
    },
    {
      "cell_type": "markdown",
      "source": [
        "From the example above, the value of f(x) is 0 when r is 0.73908513. Therefore, 0.73908513 is the root of the function f(x)=cos(x)-x\n",
        "\n",
        "When a function does have roots, the fsolve will generate a value for root but substitute the that value will not generate a 0.\n"
      ],
      "metadata": {
        "id": "u0dvx_dRGTPQ"
      }
    },
    {
      "cell_type": "code",
      "source": [
        "f = lambda x: 1/x\n",
        "\n",
        "r, infodict, ier, mesg = optimize.fsolve(f, -2, full_output=True)\n",
        "print(\"r =\", r)\n",
        "\n",
        "result = f(r)\n",
        "print(\"result=\", result)\n",
        "\n",
        "print(mesg)"
      ],
      "metadata": {
        "colab": {
          "base_uri": "https://localhost:8080/"
        },
        "id": "SoVBcDDQJ115",
        "outputId": "614f2b87-6e41-41c0-8dc7-e76400277dcb"
      },
      "execution_count": null,
      "outputs": [
        {
          "output_type": "stream",
          "name": "stdout",
          "text": [
            "r = [-3.52047359e+83]\n",
            "result= [-2.84052692e-84]\n",
            "The number of calls to function has reached maxfev = 400.\n"
          ]
        }
      ]
    },
    {
      "cell_type": "markdown",
      "source": [
        "From the example, the roots don't exist in this function, but fsolve still generate a value for root even the result is not a 0 when substitute it to the function."
      ],
      "metadata": {
        "id": "_H4HLky9KX9G"
      }
    },
    {
      "cell_type": "markdown",
      "source": [
        "**Section 19.2: Tolerance**\n",
        "\n",
        "Definition of tolerance: It's the level of error that is acceptable for an enginerring application. \n",
        "\n",
        "\n",
        "For computing roots, there are 2 possible choices for the measure the error. One is to take the absolute value of f(x) as the measurement of error. The smaller a absolute value of f(x) is, the more likely the value of x is a root.Another way to measure the error is to take the absolute value of （x_(i+1)-x_i） as the measurement of error. The value of it will be smaller and smaller as x is approaching to the solution, which is the root of the function.\n",
        "\n",
        "\n",
        "Example of the first method: Let f(x)= x^2 + tol/2, the measurement of error be \"e= |f(x)|\" and let the tolerance be \"tol\". f(x) doesn't have roots since there is a constant term. but f(0)=tol/2 is a acceptable solution for a root finding program since it's half of the tolerance and smaller than the tolerance.\n",
        "\n",
        "Example of the second method: Let f(x)=1/x, the measurement of error be \"e=|x_(i+1)-x_i|\", and let the tolerance be \"tol\".  f(x) doesn't have a root since the denominator can not be 0 in any case. If let x_(i+1)=tol/4 and let x_i=-tol/4 then e=(2tol)/4=tol/2, which is smaller than the tolerance. Therefore it's an acceptable solution for a computer program."
      ],
      "metadata": {
        "id": "zBDy8jIEK2Fy"
      }
    },
    {
      "cell_type": "markdown",
      "source": [
        "**Section 19.3: Bisection Method**\n",
        "\n",
        "Intermediate value theorem: If f(x) is a continuous function between a and b, and the sign of f(a) doesn't equal to the sign of f(b). Then there exists a c such that a < c < b and f(c)=0.\n",
        "\n",
        "Bisection method: it's a method to use the intermediate value theorem repeatedly to find the roots of an function\n",
        "\n",
        "The process of finding the root by using biseciton method is to first compute the midpoint of a interval to see if it's the root. Suppose the midpoint is m, if f(m) is 0, then m is the root. If f(m) > 0, then it means the the midpoint is in the interval (a,m). If f(m) < 0, it means the root is in the interval (m,b). By repeating this process, it can narrow down the interval where the root is in, then find the root after performing this process one or more times.   "
      ],
      "metadata": {
        "id": "5RdLDD32II4X"
      }
    },
    {
      "cell_type": "code",
      "source": [
        "import numpy as np\n",
        "\n",
        "def my_bisection(f, a, b, tol): \n",
        "    # approximates a root, R, of f bounded \n",
        "    # by a and b to within tolerance \n",
        "    # | f(m) | < tol with m the midpoint \n",
        "    # between a and b Recursive implementation\n",
        "    \n",
        "    # check if a and b bound a root\n",
        "    if np.sign(f(a)) == np.sign(f(b)):\n",
        "        raise Exception(\n",
        "         \"The scalars a and b do not bound a root\")\n",
        "        \n",
        "    # get midpoint\n",
        "    m = (a + b)/2\n",
        "    \n",
        "    if np.abs(f(m)) < tol:\n",
        "        # stopping condition, report m as root\n",
        "        return m\n",
        "    elif np.sign(f(a)) == np.sign(f(m)):\n",
        "        # case where m is an improvement on a. \n",
        "        # Make recursive call with a = m\n",
        "        return my_bisection(f, m, b, tol)\n",
        "    elif np.sign(f(b)) == np.sign(f(m)):\n",
        "        # case where m is an improvement on b. \n",
        "        # Make recursive call with b = m\n",
        "        return my_bisection(f, a, m, tol)\n",
        "  \n"
      ],
      "metadata": {
        "id": "yTNIeaIkG7AJ"
      },
      "execution_count": 10,
      "outputs": []
    },
    {
      "cell_type": "code",
      "source": [
        "f = lambda x: x**2 - 2\n",
        "\n",
        "#set up the tolerance to be 0.1 and the interval to be (0,2)\n",
        "r1 = my_bisection(f, 0, 2, 0.1)\n",
        "print(\"r1 =\", r1)\n",
        "\n",
        "#repeating the process \n",
        "r01 = my_bisection(f, 0, 2, 0.01)\n",
        "print(\"r01 =\", r01)\n",
        "\n",
        "#repeating the process again\n",
        "r02 = my_bisection(f, 0, 2, 0.01)\n",
        "print(\"r02 =\", r02)\n",
        "#repeating the process again\n",
        "r03 = my_bisection(f, 0, 2, 0.01)\n",
        "print(\"r03 =\", r03)\n",
        "print(\"f(r1) =\", f(r1))\n",
        "print(\"f(r01) =\", f(r01))\n",
        "print(\"f(r02) =\", f(r02))\n",
        "print(\"f(r03)=\", f(r03))"
      ],
      "metadata": {
        "colab": {
          "base_uri": "https://localhost:8080/"
        },
        "id": "heKG1IgFHx8O",
        "outputId": "4ccf5eb4-768b-41c5-f481-56f78938a93c"
      },
      "execution_count": 23,
      "outputs": [
        {
          "output_type": "stream",
          "name": "stdout",
          "text": [
            "r1 = 1.4375\n",
            "r01 = 1.4140625\n",
            "r02 = 1.4140625\n",
            "r03 = 1.4140625\n",
            "f(r1) = 0.06640625\n",
            "f(r01) = -0.00042724609375\n",
            "f(r02) = -0.00042724609375\n",
            "f(r03)= -0.00042724609375\n"
          ]
        }
      ]
    },
    {
      "cell_type": "markdown",
      "source": [
        "Setting up an reasonable interval is important for using this method, if the root is not in the initial interval, then it's impossible to find the root even after repeating the process multiple times."
      ],
      "metadata": {
        "id": "Q7ledufPM0oV"
      }
    },
    {
      "cell_type": "code",
      "source": [
        "my_bisection(f, 2, 4, 0.01)"
      ],
      "metadata": {
        "colab": {
          "base_uri": "https://localhost:8080/",
          "height": 302
        },
        "id": "rvlFNHgENRWe",
        "outputId": "4bffc00c-134f-403f-a380-86531224a46e"
      },
      "execution_count": 24,
      "outputs": [
        {
          "output_type": "error",
          "ename": "Exception",
          "evalue": "ignored",
          "traceback": [
            "\u001b[0;31m---------------------------------------------------------------------------\u001b[0m",
            "\u001b[0;31mException\u001b[0m                                 Traceback (most recent call last)",
            "\u001b[0;32m<ipython-input-24-4158b7a9ae67>\u001b[0m in \u001b[0;36m<module>\u001b[0;34m\u001b[0m\n\u001b[0;32m----> 1\u001b[0;31m \u001b[0mmy_bisection\u001b[0m\u001b[0;34m(\u001b[0m\u001b[0mf\u001b[0m\u001b[0;34m,\u001b[0m \u001b[0;36m2\u001b[0m\u001b[0;34m,\u001b[0m \u001b[0;36m4\u001b[0m\u001b[0;34m,\u001b[0m \u001b[0;36m0.01\u001b[0m\u001b[0;34m)\u001b[0m\u001b[0;34m\u001b[0m\u001b[0;34m\u001b[0m\u001b[0m\n\u001b[0m",
            "\u001b[0;32m<ipython-input-10-7d983537e712>\u001b[0m in \u001b[0;36mmy_bisection\u001b[0;34m(f, a, b, tol)\u001b[0m\n\u001b[1;32m      9\u001b[0m     \u001b[0;31m# check if a and b bound a root\u001b[0m\u001b[0;34m\u001b[0m\u001b[0;34m\u001b[0m\u001b[0;34m\u001b[0m\u001b[0m\n\u001b[1;32m     10\u001b[0m     \u001b[0;32mif\u001b[0m \u001b[0mnp\u001b[0m\u001b[0;34m.\u001b[0m\u001b[0msign\u001b[0m\u001b[0;34m(\u001b[0m\u001b[0mf\u001b[0m\u001b[0;34m(\u001b[0m\u001b[0ma\u001b[0m\u001b[0;34m)\u001b[0m\u001b[0;34m)\u001b[0m \u001b[0;34m==\u001b[0m \u001b[0mnp\u001b[0m\u001b[0;34m.\u001b[0m\u001b[0msign\u001b[0m\u001b[0;34m(\u001b[0m\u001b[0mf\u001b[0m\u001b[0;34m(\u001b[0m\u001b[0mb\u001b[0m\u001b[0;34m)\u001b[0m\u001b[0;34m)\u001b[0m\u001b[0;34m:\u001b[0m\u001b[0;34m\u001b[0m\u001b[0;34m\u001b[0m\u001b[0m\n\u001b[0;32m---> 11\u001b[0;31m         raise Exception(\n\u001b[0m\u001b[1;32m     12\u001b[0m          \"The scalars a and b do not bound a root\")\n\u001b[1;32m     13\u001b[0m \u001b[0;34m\u001b[0m\u001b[0m\n",
            "\u001b[0;31mException\u001b[0m: The scalars a and b do not bound a root"
          ]
        }
      ]
    },
    {
      "cell_type": "markdown",
      "source": [
        "From the above example, the error occurs in that line is because the root is not in the open interval (2,4)"
      ],
      "metadata": {
        "id": "DgBFyI3PNW2n"
      }
    },
    {
      "cell_type": "markdown",
      "source": [
        "**Section 19.4 Nweton-Raphson Method**\n",
        "\n",
        "Definition: it's a method to find the root of a function by a process. The process is first pick a guess point (x_i) for the value of root. Then by proforming the equation (x_i)=[x_(i-1)]-[f(x_(i-1))/f(x_(i-1))' ] to see if the error is less than the tolerance. If it's not. finding the improvement by plugging the last x point. Until the error is less than the tolerance.When the error is less than the tolerance, use that approximated value for the root of the function."
      ],
      "metadata": {
        "id": "sGsIgwD5NiO5"
      }
    },
    {
      "cell_type": "code",
      "source": [
        "import numpy as np\n",
        "\n",
        "f = lambda x: x**2 - 2\n",
        "f_prime = lambda x: 2*x\n",
        "newton_raphson = 1.4 - (f(1.4))/(f_prime(1.4))\n",
        "\n",
        "print(\"newton_raphson =\", newton_raphson)\n",
        "print(\"sqrt(2) =\", np.sqrt(2))"
      ],
      "metadata": {
        "colab": {
          "base_uri": "https://localhost:8080/"
        },
        "id": "BR-W_pPM-_tq",
        "outputId": "858b75ee-f16d-4a36-df96-8e5e28a3f9f0"
      },
      "execution_count": 1,
      "outputs": [
        {
          "output_type": "stream",
          "name": "stdout",
          "text": [
            "newton_raphson = 1.4142857142857144\n",
            "sqrt(2) = 1.4142135623730951\n"
          ]
        }
      ]
    },
    {
      "cell_type": "markdown",
      "source": [
        "From the example above, it shows by using newton-raphson method, the approximated value for the root of function f(x)=x^2-2 is very close to its expect value square root of 2"
      ],
      "metadata": {
        "id": "yLWbFHVk_GPB"
      }
    },
    {
      "cell_type": "markdown",
      "source": [
        "One of the limitation for newton-raphson method is that if the denominator of the term [f(x_(i-1))/f(x_(i-1))' ] is close to 0. Then newton-raphson method will generate a very large guess that is very far from the value of the root.\n",
        "\n",
        "Suppose the function f(X)=x^3+3*x^2-2*x-5 and the initial guess.\n",
        "\n",
        "Then by using newton-raphson method:"
      ],
      "metadata": {
        "id": "RCIqFuTy_wEE"
      }
    },
    {
      "cell_type": "code",
      "source": [
        "x0 = 0.29\n",
        "x1 = x0-(x0**4+3*x0**2-3*x0-5)/(3*x0**2+6*x0-2)\n",
        "print(\"x1 =\", x1)"
      ],
      "metadata": {
        "colab": {
          "base_uri": "https://localhost:8080/"
        },
        "id": "s72f9rFpA7H5",
        "outputId": "0f448e1e-0587-4394-90e0-0500755746a4"
      },
      "execution_count": 3,
      "outputs": [
        {
          "output_type": "stream",
          "name": "stdout",
          "text": [
            "x1 = -728.362881818157\n"
          ]
        }
      ]
    },
    {
      "cell_type": "markdown",
      "source": [
        "It willl generate a value of -728.362881818157 for the next guess point. if we plug the value that newton-raphson method generated, the output is around -384239861. Which is extremely far from 0."
      ],
      "metadata": {
        "id": "GkYW3JjDBDGJ"
      }
    },
    {
      "cell_type": "markdown",
      "source": [
        "**Section 19.5: root finding in python**\n",
        "\n",
        "In python, we can find the root of a function simply by using the function f_solve"
      ],
      "metadata": {
        "id": "Vfw5xevKCSOx"
      }
    },
    {
      "cell_type": "code",
      "source": [
        "from scipy.optimize import fsolve\n",
        "f = lambda x: x**2-4\n",
        "\n",
        "fsolve(f, [-5, 80])\n"
      ],
      "metadata": {
        "colab": {
          "base_uri": "https://localhost:8080/"
        },
        "id": "Irv38jX4C1o_",
        "outputId": "b1efe040-53f7-413f-97e4-5db4aee01025"
      },
      "execution_count": 5,
      "outputs": [
        {
          "output_type": "execute_result",
          "data": {
            "text/plain": [
              "array([-2.,  2.])"
            ]
          },
          "metadata": {},
          "execution_count": 5
        }
      ]
    },
    {
      "cell_type": "markdown",
      "source": [
        "the roots for the function f(x)=x^2-4 is -2 and 2. As the function f_solve generated."
      ],
      "metadata": {
        "id": "ebEcYs_oDC4f"
      }
    }
  ]
}