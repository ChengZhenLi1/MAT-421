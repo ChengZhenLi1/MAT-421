{
  "nbformat": 4,
  "nbformat_minor": 0,
  "metadata": {
    "colab": {
      "provenance": [],
      "authorship_tag": "ABX9TyODjiiN0OU2LNzejrVodtE6",
      "include_colab_link": true
    },
    "kernelspec": {
      "name": "python3",
      "display_name": "Python 3"
    },
    "language_info": {
      "name": "python"
    }
  },
  "cells": [
    {
      "cell_type": "markdown",
      "metadata": {
        "id": "view-in-github",
        "colab_type": "text"
      },
      "source": [
        "<a href=\"https://colab.research.google.com/github/ChengZhenLi1/MAT-421/blob/main/HW%20for%2021.1-21.3.ipynb\" target=\"_parent\"><img src=\"https://colab.research.google.com/assets/colab-badge.svg\" alt=\"Open In Colab\"/></a>"
      ]
    },
    {
      "cell_type": "markdown",
      "source": [
        "**Numerical Integration**\n",
        "\n",
        "**Riemannas Integral**\n",
        "\n",
        "Riemann Integral: It'e a method to approximate integrals by calculating the sum of the area of rectangles that are defined in the subintervals. The width of the rectangle is x_(i+1) - x_i. The height of the rectangle could either be the value of y(x_(i+1)) or the value of y(x_i).\n",
        "\n",
        "Depending on the endpoints, the integral of f(x) with interval (a,b) is approximately equal to the sum of the height multiplies the value of f(x_i) for i=0 to i=n-1 or the sum of the her+ight multiplies the valur of f(x_i) for i=1 to i=n.\n",
        "\n",
        "Midpoint rule: using the height of the rectangle at each subinterval to be the function value as the midpoint in that subinterval."
      ],
      "metadata": {
        "id": "-P8ZWkgCwLrm"
      }
    },
    {
      "cell_type": "code",
      "source": [
        "import numpy as np\n",
        "\n",
        "a = 2\n",
        "b = np.pi*3\n",
        "n = 15\n",
        "h = (b - a) / (n - 1)\n",
        "x = np.linspace(a, b, n)\n",
        "f = np.sin(x)\n",
        "\n",
        "I_riemannL = h * sum(f[:n-1])\n",
        "err_riemannL = 2 - I_riemannL\n",
        "\n",
        "I_riemannR = h * sum(f[1::])\n",
        "err_riemannR = 2 - I_riemannR\n",
        "\n",
        "I_mid = h * sum(np.sin((x[:n-1] \\\n",
        "        + x[1:])/2))\n",
        "err_mid = 2 - I_mid\n",
        "\n",
        "print(I_riemannL)\n",
        "print(err_riemannL)\n",
        "\n",
        "print(I_riemannR)\n",
        "print(err_riemannR)\n",
        "\n",
        "print(I_mid)\n",
        "print(err_mid)"
      ],
      "metadata": {
        "colab": {
          "base_uri": "https://localhost:8080/"
        },
        "id": "7tcmPlNb5upm",
        "outputId": "a672f7a3-606c-404f-e442-e8f4c92bbddc"
      },
      "execution_count": 4,
      "outputs": [
        {
          "output_type": "stream",
          "name": "stdout",
          "text": [
            "0.811222926968328\n",
            "1.188777073031672\n",
            "0.3289849630769262\n",
            "1.6710150369230738\n",
            "0.5907520315765454\n",
            "1.4092479684234545\n"
          ]
        }
      ]
    },
    {
      "cell_type": "markdown",
      "source": [
        "**Trapezoid Rule**\n",
        "\n",
        "It's a method to approximate the integral in a given interval by find the best fitted trapezoid in each subinterval and summing the area of the best fitted trapezoid in each subinterval."
      ],
      "metadata": {
        "id": "F2aAcrpW641W"
      }
    },
    {
      "cell_type": "code",
      "source": [
        "import numpy as np\n",
        "\n",
        "a = 7\n",
        "b = np.pi**2\n",
        "n = 11\n",
        "h = (b - a) / (n - 1)\n",
        "x = np.linspace(a, b, n)\n",
        "f = np.sin(x)\n",
        "\n",
        "I_trap = (h/2)*(f[0] + \\\n",
        "          2 * sum(f[1:n-1]) + f[n-1])\n",
        "err_trap = 2 - I_trap\n",
        "\n",
        "print(I_trap)\n",
        "print(err_trap)"
      ],
      "metadata": {
        "colab": {
          "base_uri": "https://localhost:8080/"
        },
        "id": "CeCsDGivTQfd",
        "outputId": "96caa39c-c5ef-4cab-e9ef-503452505dab"
      },
      "execution_count": 6,
      "outputs": [
        {
          "output_type": "stream",
          "name": "stdout",
          "text": [
            "1.645204163059085\n",
            "0.354795836940915\n"
          ]
        }
      ]
    }
  ]
}